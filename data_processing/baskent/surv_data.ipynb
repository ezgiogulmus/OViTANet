{
 "cells": [
  {
   "cell_type": "markdown",
   "metadata": {},
   "source": [
    "# organize csv files"
   ]
  },
  {
   "cell_type": "code",
   "execution_count": null,
   "metadata": {},
   "outputs": [],
   "source": [
    "import os\n",
    "import pandas as pd\n",
    "import numpy as np\n",
    "\n",
    "df = pd.read_csv(\"./raw_data.csv\")\n",
    "df"
   ]
  },
  {
   "cell_type": "code",
   "execution_count": 17,
   "metadata": {},
   "outputs": [
    {
     "name": "stdout",
     "output_type": "stream",
     "text": [
      "0\n"
     ]
    },
    {
     "name": "stderr",
     "output_type": "stream",
     "text": [
      "/tmp/ipykernel_5849/2022630649.py:5: SettingWithCopyWarning: \n",
      "A value is trying to be set on a copy of a slice from a DataFrame\n",
      "\n",
      "See the caveats in the documentation: https://pandas.pydata.org/pandas-docs/stable/user_guide/indexing.html#returning-a-view-versus-a-copy\n",
      "  df[\"case_id\"].iloc[i] = year + \"-\" + code\n",
      "/tmp/ipykernel_5849/2022630649.py:11: SettingWithCopyWarning: \n",
      "A value is trying to be set on a copy of a slice from a DataFrame\n",
      "\n",
      "See the caveats in the documentation: https://pandas.pydata.org/pandas-docs/stable/user_guide/indexing.html#returning-a-view-versus-a-copy\n",
      "  df[\"case_id\"].iloc[i] = year + \"-\" + code\n"
     ]
    },
    {
     "data": {
      "text/plain": [
       "array(['11', '12', '13', '14', '15', '16', '17', '18', '20'], dtype='<U2')"
      ]
     },
     "execution_count": 17,
     "metadata": {},
     "output_type": "execute_result"
    }
   ],
   "source": [
    "for i in range(len(df)):\n",
    "    if df[\"case_id\"].iloc[i][0] == \"B\":\n",
    "        _, code, year = df[\"case_id\"].iloc[i].split(\"-\")\n",
    "        assert int(year) < 21 and int(year) > 10\n",
    "        df[\"case_id\"].iloc[i] = year + \"-\" + code\n",
    "    else:\n",
    "        code, year = df[\"case_id\"].iloc[i].split(\"-\")\n",
    "        if len(year) > 2:\n",
    "            code, year = year, code\n",
    "        assert int(year) < 21 and int(year) > 11\n",
    "        df[\"case_id\"].iloc[i] = year + \"-\" + code\n",
    "print(len(df[df[\"case_id\"].duplicated(False)]))\n",
    "np.unique([i.split(\"-\")[0] for i in df[\"case_id\"].values])"
   ]
  },
  {
   "cell_type": "markdown",
   "metadata": {},
   "source": [
    "## other subtypes"
   ]
  },
  {
   "cell_type": "code",
   "execution_count": 18,
   "metadata": {},
   "outputs": [
    {
     "data": {
      "text/html": [
       "<div>\n",
       "<style scoped>\n",
       "    .dataframe tbody tr th:only-of-type {\n",
       "        vertical-align: middle;\n",
       "    }\n",
       "\n",
       "    .dataframe tbody tr th {\n",
       "        vertical-align: top;\n",
       "    }\n",
       "\n",
       "    .dataframe thead th {\n",
       "        text-align: right;\n",
       "    }\n",
       "</style>\n",
       "<table border=\"1\" class=\"dataframe\">\n",
       "  <thead>\n",
       "    <tr style=\"text-align: right;\">\n",
       "      <th></th>\n",
       "      <th>subtype</th>\n",
       "      <th>case_id</th>\n",
       "      <th>case_id.1</th>\n",
       "      <th>tx_ends</th>\n",
       "      <th>birth</th>\n",
       "      <th>tanı_tarihi</th>\n",
       "      <th>exitus</th>\n",
       "      <th>exorfu_date</th>\n",
       "      <th>remission</th>\n",
       "      <th>recurrence</th>\n",
       "      <th>recorfu_date</th>\n",
       "    </tr>\n",
       "  </thead>\n",
       "  <tbody>\n",
       "    <tr>\n",
       "      <th>120</th>\n",
       "      <td>endometrioid/teratom</td>\n",
       "      <td>17-6709</td>\n",
       "      <td>B-6709-17</td>\n",
       "      <td>NaN</td>\n",
       "      <td>01.10.1980</td>\n",
       "      <td>17.04.2015</td>\n",
       "      <td>0</td>\n",
       "      <td>11.12.2019</td>\n",
       "      <td>1.0</td>\n",
       "      <td>0.0</td>\n",
       "      <td>11.12.2019</td>\n",
       "    </tr>\n",
       "    <tr>\n",
       "      <th>121</th>\n",
       "      <td>cc</td>\n",
       "      <td>17-6551</td>\n",
       "      <td>B-6551-17</td>\n",
       "      <td>18.08.2017</td>\n",
       "      <td>25.08.1968</td>\n",
       "      <td>12.04.2017</td>\n",
       "      <td>0</td>\n",
       "      <td>25.03.2021</td>\n",
       "      <td>1.0</td>\n",
       "      <td>0.0</td>\n",
       "      <td>25.03.2021</td>\n",
       "    </tr>\n",
       "    <tr>\n",
       "      <th>122</th>\n",
       "      <td>endometriyozis zemininde seromüsinöz</td>\n",
       "      <td>17-4924</td>\n",
       "      <td>B-4924-17</td>\n",
       "      <td>NaN</td>\n",
       "      <td>26.10.1982</td>\n",
       "      <td>17.03.2017</td>\n",
       "      <td>1</td>\n",
       "      <td>24.02.2019</td>\n",
       "      <td>0.0</td>\n",
       "      <td>0.0</td>\n",
       "      <td>16.11.2017</td>\n",
       "    </tr>\n",
       "    <tr>\n",
       "      <th>123</th>\n",
       "      <td>Seromüsinöz, mülleriant tip mikst epitelyal ka...</td>\n",
       "      <td>17-903</td>\n",
       "      <td>B-903-17</td>\n",
       "      <td>29.05.2017</td>\n",
       "      <td>17.10.1988</td>\n",
       "      <td>13.01.2017</td>\n",
       "      <td>0</td>\n",
       "      <td>27.03.2023</td>\n",
       "      <td>1.0</td>\n",
       "      <td>0.0</td>\n",
       "      <td>01.06.2020</td>\n",
       "    </tr>\n",
       "    <tr>\n",
       "      <th>130</th>\n",
       "      <td>cc</td>\n",
       "      <td>18-3341</td>\n",
       "      <td>B-3341-18</td>\n",
       "      <td>11.07.2018</td>\n",
       "      <td>17.01.1977</td>\n",
       "      <td>06.02.2018</td>\n",
       "      <td>1</td>\n",
       "      <td>21.02.2019</td>\n",
       "      <td>0.0</td>\n",
       "      <td>0.0</td>\n",
       "      <td>NaN</td>\n",
       "    </tr>\n",
       "    <tr>\n",
       "      <th>131</th>\n",
       "      <td>endometrioid</td>\n",
       "      <td>18-2798</td>\n",
       "      <td>B-2798-18</td>\n",
       "      <td>22.06.2018</td>\n",
       "      <td>27.12.1978</td>\n",
       "      <td>07.02.2018</td>\n",
       "      <td>0</td>\n",
       "      <td>24.10.2018</td>\n",
       "      <td>NaN</td>\n",
       "      <td>0.0</td>\n",
       "      <td>24.10.2018</td>\n",
       "    </tr>\n",
       "    <tr>\n",
       "      <th>133</th>\n",
       "      <td>mikst</td>\n",
       "      <td>18-4798</td>\n",
       "      <td>B-4798-18</td>\n",
       "      <td>25.07.2018</td>\n",
       "      <td>28.08.1953</td>\n",
       "      <td>08.03.2018</td>\n",
       "      <td>1</td>\n",
       "      <td>21.03.2022</td>\n",
       "      <td>1.0</td>\n",
       "      <td>1.0</td>\n",
       "      <td>16.01.2020</td>\n",
       "    </tr>\n",
       "    <tr>\n",
       "      <th>136</th>\n",
       "      <td>mikst</td>\n",
       "      <td>18-5964</td>\n",
       "      <td>B-5964-18</td>\n",
       "      <td>07.08.2018</td>\n",
       "      <td>11.07.1967</td>\n",
       "      <td>22.03.2018</td>\n",
       "      <td>1</td>\n",
       "      <td>27.09.2018</td>\n",
       "      <td>1.0</td>\n",
       "      <td>1.0</td>\n",
       "      <td>31.08.2018</td>\n",
       "    </tr>\n",
       "    <tr>\n",
       "      <th>138</th>\n",
       "      <td>mikst</td>\n",
       "      <td>16-6396</td>\n",
       "      <td>B-6396-16</td>\n",
       "      <td>NaN</td>\n",
       "      <td>06.03.1957</td>\n",
       "      <td>07.04.2016</td>\n",
       "      <td>1</td>\n",
       "      <td>02.11.2018</td>\n",
       "      <td>NaN</td>\n",
       "      <td>0.0</td>\n",
       "      <td>03.09.2018</td>\n",
       "    </tr>\n",
       "    <tr>\n",
       "      <th>142</th>\n",
       "      <td>cc</td>\n",
       "      <td>18-6137</td>\n",
       "      <td>B-6137-18</td>\n",
       "      <td>03.08.2018</td>\n",
       "      <td>15.01.1962</td>\n",
       "      <td>29.03.2018</td>\n",
       "      <td>1</td>\n",
       "      <td>27.12.2019</td>\n",
       "      <td>1.0</td>\n",
       "      <td>1.0</td>\n",
       "      <td>12.02.2019</td>\n",
       "    </tr>\n",
       "    <tr>\n",
       "      <th>147</th>\n",
       "      <td>Seromüsinöz-endometrioid (sağ over)</td>\n",
       "      <td>20-15012</td>\n",
       "      <td>B-15012-20</td>\n",
       "      <td>05.04.2021</td>\n",
       "      <td>05.11.1964</td>\n",
       "      <td>16.11.2020</td>\n",
       "      <td>0</td>\n",
       "      <td>14.08.2023</td>\n",
       "      <td>1.0</td>\n",
       "      <td>0.0</td>\n",
       "      <td>14.08.2023</td>\n",
       "    </tr>\n",
       "  </tbody>\n",
       "</table>\n",
       "</div>"
      ],
      "text/plain": [
       "                                               subtype   case_id   case_id.1  \\\n",
       "120                               endometrioid/teratom   17-6709   B-6709-17   \n",
       "121                                                 cc   17-6551   B-6551-17   \n",
       "122               endometriyozis zemininde seromüsinöz   17-4924   B-4924-17   \n",
       "123  Seromüsinöz, mülleriant tip mikst epitelyal ka...    17-903    B-903-17   \n",
       "130                                                 cc   18-3341   B-3341-18   \n",
       "131                                       endometrioid   18-2798   B-2798-18   \n",
       "133                                              mikst   18-4798   B-4798-18   \n",
       "136                                              mikst   18-5964   B-5964-18   \n",
       "138                                              mikst   16-6396   B-6396-16   \n",
       "142                                                 cc   18-6137   B-6137-18   \n",
       "147                Seromüsinöz-endometrioid (sağ over)  20-15012  B-15012-20   \n",
       "\n",
       "        tx_ends       birth tanı_tarihi  exitus exorfu_date  remission  \\\n",
       "120         NaN  01.10.1980  17.04.2015       0  11.12.2019        1.0   \n",
       "121  18.08.2017  25.08.1968  12.04.2017       0  25.03.2021        1.0   \n",
       "122         NaN  26.10.1982  17.03.2017       1  24.02.2019        0.0   \n",
       "123  29.05.2017  17.10.1988  13.01.2017       0  27.03.2023        1.0   \n",
       "130  11.07.2018  17.01.1977  06.02.2018       1  21.02.2019        0.0   \n",
       "131  22.06.2018  27.12.1978  07.02.2018       0  24.10.2018        NaN   \n",
       "133  25.07.2018  28.08.1953  08.03.2018       1  21.03.2022        1.0   \n",
       "136  07.08.2018  11.07.1967  22.03.2018       1  27.09.2018        1.0   \n",
       "138         NaN  06.03.1957  07.04.2016       1  02.11.2018        NaN   \n",
       "142  03.08.2018  15.01.1962  29.03.2018       1  27.12.2019        1.0   \n",
       "147  05.04.2021  05.11.1964  16.11.2020       0  14.08.2023        1.0   \n",
       "\n",
       "     recurrence recorfu_date  \n",
       "120         0.0   11.12.2019  \n",
       "121         0.0   25.03.2021  \n",
       "122         0.0   16.11.2017  \n",
       "123         0.0   01.06.2020  \n",
       "130         0.0          NaN  \n",
       "131         0.0   24.10.2018  \n",
       "133         1.0   16.01.2020  \n",
       "136         1.0   31.08.2018  \n",
       "138         0.0   03.09.2018  \n",
       "142         1.0   12.02.2019  \n",
       "147         0.0   14.08.2023  "
      ]
     },
     "execution_count": 18,
     "metadata": {},
     "output_type": "execute_result"
    }
   ],
   "source": [
    "df[df[\"subtype\"] != \"0\"]"
   ]
  },
  {
   "cell_type": "code",
   "execution_count": 19,
   "metadata": {},
   "outputs": [
    {
     "data": {
      "text/plain": [
       "((137, 11), 11)"
      ]
     },
     "execution_count": 19,
     "metadata": {},
     "output_type": "execute_result"
    }
   ],
   "source": [
    "other_st = df[df[\"subtype\"] != \"0\"]\n",
    "other_st_ids = other_st[\"case_id\"].values\n",
    "df = df.drop(other_st.index)\n",
    "df.shape, len(other_st_ids)"
   ]
  },
  {
   "cell_type": "code",
   "execution_count": 20,
   "metadata": {},
   "outputs": [
    {
     "name": "stdout",
     "output_type": "stream",
     "text": [
      "FFPE case/slide: 122 828\n",
      "Frozen case/slide: 13 101\n",
      "Total case/slide: 134 929\n",
      "Both FFPE and Frozen olan case / only ffpe and only frozen slides:  1 5 1\n",
      "Other sites total:  6 38\n",
      "Sadece non-ovarian dokusu olanlar: 3\n"
     ]
    },
    {
     "data": {
      "text/plain": [
       "['14-4493-LA1.ndpi',\n",
       " '14-4493-LA5.ndpi',\n",
       " '14-2087-RA4.ndpi',\n",
       " '14-2087-RA8.ndpi',\n",
       " '14-16314-RA3.ndpi',\n",
       " '14-2087-LA5.ndpi',\n",
       " '14-16314-RA11.ndpi',\n",
       " '14-16314-RA7.ndpi',\n",
       " '14-2087-LA1.ndpi',\n",
       " '14-4493-RA5.ndpi',\n",
       " '14-16314-RA2.ndpi',\n",
       " '14-2087-LA4.ndpi',\n",
       " '14-16314-RA10.ndpi',\n",
       " '14-4493-RA1.ndpi',\n",
       " '14-16314-RA6.ndpi',\n",
       " '14-2087-LA8.ndpi',\n",
       " '14-4493-LA4.ndpi',\n",
       " '14-2087-RA5.ndpi',\n",
       " '14-2087-LA6.ndpi',\n",
       " '14-16314-RA4.ndpi',\n",
       " '14-2087-RA3.ndpi',\n",
       " '14-4493-LA2.ndpi',\n",
       " '14-16314-RA8.ndpi',\n",
       " '14-2087-RA7.ndpi',\n",
       " '14-4493-LA3.ndpi',\n",
       " '14-16314-RA9.ndpi',\n",
       " '14-2087-RA6.ndpi',\n",
       " '14-16314-RA1.ndpi',\n",
       " '14-2087-LA7.ndpi',\n",
       " '14-4493-RA6.ndpi',\n",
       " '14-16314-RA5.ndpi',\n",
       " '14-2087-LA3.ndpi',\n",
       " '14-4493-RA2.ndpi']"
      ]
     },
     "execution_count": 20,
     "metadata": {},
     "output_type": "execute_result"
    }
   ],
   "source": [
    "ffpe_dir = \"/media/nfs/SURV/BasOVER/Slides/\"\n",
    "# frozen_dir = \"/media/nfs/SURV/BasOVER/frozen/\"\n",
    "other_sites_dir = \"/media/nfs/SURV/BasOVER/excluded/other_sites/\"\n",
    "\n",
    "ffpe_list = [i for i in os.listdir(ffpe_dir) if \"ndpi\" in i if \"F\" not in i]\n",
    "ffpe_cases = np.unique([i.rsplit(\"-\", 1)[0] for i in ffpe_list])\n",
    "print(\"FFPE case/slide:\", len(ffpe_cases), len(ffpe_list))\n",
    "frozen_list = [i for i in os.listdir(ffpe_dir) if \"ndpi\" in i if \"F\" in i]\n",
    "frozen_cases = np.unique([i.rsplit(\"-\", 1)[0] for i in frozen_list])\n",
    "print(\"Frozen case/slide:\", len(frozen_cases), len(frozen_list))\n",
    "total_cases = np.unique(list(frozen_cases)+list(ffpe_cases))\n",
    "total_list = np.unique(list(frozen_list)+list(ffpe_list))\n",
    "print(\"Total case/slide:\", len(total_cases), len(total_list))\n",
    "\n",
    "# bütün görüntülerin follow-up verisi var\n",
    "assert len([i for i in ffpe_cases if i not in df[\"case_id\"].values]) == 0 and len([i for i in frozen_cases if i not in df[\"case_id\"].values]) == 0\n",
    "both_ffpe_frozen_cases = [i for i in frozen_cases if i in ffpe_cases]\n",
    "ffpe_only = [i for i in ffpe_list if i.rsplit(\"-\", 1)[0] in both_ffpe_frozen_cases]\n",
    "frozen_only = [i for i in frozen_list if i.rsplit(\"-\", 1)[0] in both_ffpe_frozen_cases]\n",
    "print(\"Both FFPE and Frozen olan case / only ffpe and only frozen slides: \", len(both_ffpe_frozen_cases), len(ffpe_only), len(frozen_only))\n",
    "\n",
    "other_site_list = [i for i in os.listdir(other_sites_dir) if \"ndpi\" in i]\n",
    "other_site_cases = np.unique([i.rsplit(\"-\", 1)[0] for i in other_site_list])\n",
    "print(\"Other sites total: \", len(other_site_cases), len(other_site_list))\n",
    "removed_other_site_cases = [i for i in other_site_cases if i not in total_cases]\n",
    "print(\"Sadece non-ovarian dokusu olanlar:\", len(removed_other_site_cases))\n",
    "[i for i in other_site_list if i.rsplit(\"-\", 1)[0] in removed_other_site_cases]"
   ]
  },
  {
   "cell_type": "code",
   "execution_count": 21,
   "metadata": {},
   "outputs": [
    {
     "data": {
      "text/plain": [
       "(134, 11)"
      ]
     },
     "execution_count": 21,
     "metadata": {},
     "output_type": "execute_result"
    }
   ],
   "source": [
    "df = df[~df[\"case_id\"].isin(removed_other_site_cases)].reset_index(drop=True)\n",
    "df.shape"
   ]
  },
  {
   "cell_type": "code",
   "execution_count": 22,
   "metadata": {},
   "outputs": [
    {
     "name": "stdout",
     "output_type": "stream",
     "text": [
      "Columns:  ['birth', 'tanı_tarihi', 'exorfu_date', 'recorfu_date', 'tx_ends']\n",
      "Max months:  [12, 12, 12, 12, 12]\n",
      "Max years:  [1981, 2018, 2023, 2023, 2021]\n",
      "Min years:  [1933, 2011, 2011, 2011, 2011]\n"
     ]
    }
   ],
   "source": [
    "date_cols = [\"birth\", \"tanı_tarihi\", \"exorfu_date\", \"recorfu_date\", \"tx_ends\"]\n",
    "print(\"Columns: \", date_cols)\n",
    "print(\"Max months: \", [(df[col].str.split(\".\").str[1]).dropna().astype(int).max() for col in date_cols])\n",
    "print(\"Max years: \", [(df[col].str.split(\".\").str[2]).dropna().astype(int).max() for col in date_cols])\n",
    "print(\"Min years: \", [(df[col].str.split(\".\").str[2]).dropna().astype(int).min() for col in date_cols])\n"
   ]
  },
  {
   "cell_type": "code",
   "execution_count": 23,
   "metadata": {},
   "outputs": [
    {
     "name": "stdout",
     "output_type": "stream",
     "text": [
      "Tanı tarihi: 2011-05-19 00:00:00 2018-04-09 00:00:00\n",
      "Doğum tarihi: 1933-03-12 00:00:00 1981-09-25 00:00:00\n",
      "Son tedavi tarihi: 2011-07-11 00:00:00 2021-07-26 00:00:00\n"
     ]
    }
   ],
   "source": [
    "print(\"Tanı tarihi:\", pd.to_datetime(df[\"tanı_tarihi\"], format=\"%d.%m.%Y\").min(), pd.to_datetime(df[\"tanı_tarihi\"], format=\"%d.%m.%Y\").max())\n",
    "print(\"Doğum tarihi:\", pd.to_datetime(df[\"birth\"], format=\"%d.%m.%Y\").min(), pd.to_datetime(df[\"birth\"], format=\"%d.%m.%Y\").max())\n",
    "print(\"Son tedavi tarihi:\", pd.to_datetime(df[\"tx_ends\"], format=\"%d.%m.%Y\").min(), pd.to_datetime(df[\"tx_ends\"], format=\"%d.%m.%Y\").max())"
   ]
  },
  {
   "cell_type": "code",
   "execution_count": 24,
   "metadata": {},
   "outputs": [
    {
     "data": {
      "text/plain": [
       "(34, 84)"
      ]
     },
     "execution_count": 24,
     "metadata": {},
     "output_type": "execute_result"
    }
   ],
   "source": [
    "df[\"age\"] = (pd.to_datetime(df[\"tanı_tarihi\"], format=\"%d.%m.%Y\") - pd.to_datetime(df[\"birth\"], format=\"%d.%m.%Y\")).dt.days//365\n",
    "df[\"age\"].min(), df[\"age\"].max()"
   ]
  },
  {
   "cell_type": "code",
   "execution_count": 25,
   "metadata": {},
   "outputs": [
    {
     "name": "stderr",
     "output_type": "stream",
     "text": [
      "/tmp/ipykernel_5849/432501363.py:6: SettingWithCopyWarning: \n",
      "A value is trying to be set on a copy of a slice from a DataFrame\n",
      "\n",
      "See the caveats in the documentation: https://pandas.pydata.org/pandas-docs/stable/user_guide/indexing.html#returning-a-view-versus-a-copy\n",
      "  df[\"os_date\"].iloc[i] = \"02.08.2023\"\n"
     ]
    },
    {
     "data": {
      "text/html": [
       "<div>\n",
       "<style scoped>\n",
       "    .dataframe tbody tr th:only-of-type {\n",
       "        vertical-align: middle;\n",
       "    }\n",
       "\n",
       "    .dataframe tbody tr th {\n",
       "        vertical-align: top;\n",
       "    }\n",
       "\n",
       "    .dataframe thead th {\n",
       "        text-align: right;\n",
       "    }\n",
       "</style>\n",
       "<table border=\"1\" class=\"dataframe\">\n",
       "  <thead>\n",
       "    <tr style=\"text-align: right;\">\n",
       "      <th></th>\n",
       "      <th>subtype</th>\n",
       "      <th>case_id</th>\n",
       "      <th>case_id.1</th>\n",
       "      <th>tx_ends</th>\n",
       "      <th>birth</th>\n",
       "      <th>tanı_tarihi</th>\n",
       "      <th>exitus</th>\n",
       "      <th>exorfu_date</th>\n",
       "      <th>remission</th>\n",
       "      <th>recurrence</th>\n",
       "      <th>recorfu_date</th>\n",
       "      <th>age</th>\n",
       "      <th>os_date</th>\n",
       "    </tr>\n",
       "  </thead>\n",
       "  <tbody>\n",
       "  </tbody>\n",
       "</table>\n",
       "</div>"
      ],
      "text/plain": [
       "Empty DataFrame\n",
       "Columns: [subtype, case_id, case_id.1, tx_ends, birth, tanı_tarihi, exitus, exorfu_date, remission, recurrence, recorfu_date, age, os_date]\n",
       "Index: []"
      ]
     },
     "execution_count": 25,
     "metadata": {},
     "output_type": "execute_result"
    }
   ],
   "source": [
    "df[\"os_date\"] = np.zeros(len(df))\n",
    "for i in range(len(df)):\n",
    "    if int(df[\"exitus\"].iloc[i]) == 1:\n",
    "        df[\"os_date\"].iloc[i] = df[\"exorfu_date\"].iloc[i]\n",
    "    else:\n",
    "        df[\"os_date\"].iloc[i] = \"02.08.2023\"\n",
    "df[df[\"os_date\"] == 0]"
   ]
  },
  {
   "cell_type": "code",
   "execution_count": 26,
   "metadata": {},
   "outputs": [
    {
     "data": {
      "text/plain": [
       "(Timestamp('2012-11-19 00:00:00'), Timestamp('2023-08-02 00:00:00'))"
      ]
     },
     "execution_count": 26,
     "metadata": {},
     "output_type": "execute_result"
    }
   ],
   "source": [
    "pd.to_datetime(df[\"os_date\"], format=\"%d.%m.%Y\").min(), pd.to_datetime(df[\"os_date\"], format=\"%d.%m.%Y\").max()"
   ]
  },
  {
   "cell_type": "code",
   "execution_count": 27,
   "metadata": {},
   "outputs": [
    {
     "data": {
      "text/plain": [
       "(1.67, 148.2)"
      ]
     },
     "execution_count": 27,
     "metadata": {},
     "output_type": "execute_result"
    }
   ],
   "source": [
    "df[\"os_months\"] = (pd.to_datetime(df[\"os_date\"], format=\"%d.%m.%Y\") - pd.to_datetime(df[\"tanı_tarihi\"], format=\"%d.%m.%Y\")).dt.days\n",
    "df[\"os_months\"] = (df[\"os_months\"]/30).round(2)\n",
    "df[\"os_months\"].min(), df[\"os_months\"].max()"
   ]
  },
  {
   "cell_type": "code",
   "execution_count": 29,
   "metadata": {},
   "outputs": [
    {
     "data": {
      "text/plain": [
       "(0.0, 144.47)"
      ]
     },
     "execution_count": 29,
     "metadata": {},
     "output_type": "execute_result"
    }
   ],
   "source": [
    "df[\"dfs_months\"] = (pd.to_datetime(df[\"recorfu_date\"], format=\"%d.%m.%Y\") - pd.to_datetime(df[\"tx_ends\"], format=\"%d.%m.%Y\")).dt.days\n",
    "df[\"dfs_months\"] = (df[\"dfs_months\"]/30).round(2)\n",
    "df[\"dfs_months\"].min(), df[\"dfs_months\"].max()"
   ]
  },
  {
   "cell_type": "code",
   "execution_count": 30,
   "metadata": {},
   "outputs": [
    {
     "name": "stderr",
     "output_type": "stream",
     "text": [
      "/tmp/ipykernel_5849/2103648142.py:1: SettingWithCopyWarning: \n",
      "A value is trying to be set on a copy of a slice from a DataFrame\n",
      "\n",
      "See the caveats in the documentation: https://pandas.pydata.org/pandas-docs/stable/user_guide/indexing.html#returning-a-view-versus-a-copy\n",
      "  df[\"dfs_months\"][df[\"dfs_months\"] == 0] = pd.NA\n"
     ]
    },
    {
     "data": {
      "text/plain": [
       "(0.4, 144.47)"
      ]
     },
     "execution_count": 30,
     "metadata": {},
     "output_type": "execute_result"
    }
   ],
   "source": [
    "df[\"dfs_months\"][df[\"dfs_months\"] == 0] = pd.NA\n",
    "df[\"dfs_months\"].min(), df[\"dfs_months\"].max()"
   ]
  },
  {
   "cell_type": "code",
   "execution_count": 31,
   "metadata": {},
   "outputs": [
    {
     "data": {
      "text/html": [
       "<div>\n",
       "<style scoped>\n",
       "    .dataframe tbody tr th:only-of-type {\n",
       "        vertical-align: middle;\n",
       "    }\n",
       "\n",
       "    .dataframe tbody tr th {\n",
       "        vertical-align: top;\n",
       "    }\n",
       "\n",
       "    .dataframe thead th {\n",
       "        text-align: right;\n",
       "    }\n",
       "</style>\n",
       "<table border=\"1\" class=\"dataframe\">\n",
       "  <thead>\n",
       "    <tr style=\"text-align: right;\">\n",
       "      <th></th>\n",
       "      <th>subtype</th>\n",
       "      <th>case_id</th>\n",
       "      <th>case_id.1</th>\n",
       "      <th>tx_ends</th>\n",
       "      <th>birth</th>\n",
       "      <th>tanı_tarihi</th>\n",
       "      <th>exitus</th>\n",
       "      <th>exorfu_date</th>\n",
       "      <th>remission</th>\n",
       "      <th>recurrence</th>\n",
       "      <th>recorfu_date</th>\n",
       "      <th>age</th>\n",
       "      <th>os_date</th>\n",
       "      <th>os_months</th>\n",
       "      <th>dfs_months</th>\n",
       "    </tr>\n",
       "  </thead>\n",
       "  <tbody>\n",
       "    <tr>\n",
       "      <th>0</th>\n",
       "      <td>0</td>\n",
       "      <td>11-4785</td>\n",
       "      <td>B-4785-11</td>\n",
       "      <td>07.09.2011</td>\n",
       "      <td>01.09.1974</td>\n",
       "      <td>31.05.2011</td>\n",
       "      <td>0</td>\n",
       "      <td>11.05.2023</td>\n",
       "      <td>1.0</td>\n",
       "      <td>0.0</td>\n",
       "      <td>11.05.2023</td>\n",
       "      <td>36</td>\n",
       "      <td>02.08.2023</td>\n",
       "      <td>148.20</td>\n",
       "      <td>142.13</td>\n",
       "    </tr>\n",
       "    <tr>\n",
       "      <th>1</th>\n",
       "      <td>0</td>\n",
       "      <td>11-7072</td>\n",
       "      <td>B-7072-11</td>\n",
       "      <td>11.07.2011</td>\n",
       "      <td>01.12.1942</td>\n",
       "      <td>28.06.2011</td>\n",
       "      <td>0</td>\n",
       "      <td>23.05.2023</td>\n",
       "      <td>1.0</td>\n",
       "      <td>0.0</td>\n",
       "      <td>23.05.2023</td>\n",
       "      <td>68</td>\n",
       "      <td>02.08.2023</td>\n",
       "      <td>147.27</td>\n",
       "      <td>144.47</td>\n",
       "    </tr>\n",
       "    <tr>\n",
       "      <th>2</th>\n",
       "      <td>0</td>\n",
       "      <td>11-13471</td>\n",
       "      <td>B-13471-11</td>\n",
       "      <td>NaN</td>\n",
       "      <td>10.03.1948</td>\n",
       "      <td>29.11.2011</td>\n",
       "      <td>0</td>\n",
       "      <td>29.11.2011</td>\n",
       "      <td>NaN</td>\n",
       "      <td>NaN</td>\n",
       "      <td>29.11.2011</td>\n",
       "      <td>63</td>\n",
       "      <td>02.08.2023</td>\n",
       "      <td>142.13</td>\n",
       "      <td>NaN</td>\n",
       "    </tr>\n",
       "    <tr>\n",
       "      <th>3</th>\n",
       "      <td>0</td>\n",
       "      <td>11-9522</td>\n",
       "      <td>B-9522-11</td>\n",
       "      <td>28.12.2011</td>\n",
       "      <td>10.01.1942</td>\n",
       "      <td>22.08.2011</td>\n",
       "      <td>1</td>\n",
       "      <td>29.10.2016</td>\n",
       "      <td>1.0</td>\n",
       "      <td>1.0</td>\n",
       "      <td>18.10.2012</td>\n",
       "      <td>69</td>\n",
       "      <td>29.10.2016</td>\n",
       "      <td>63.17</td>\n",
       "      <td>9.83</td>\n",
       "    </tr>\n",
       "    <tr>\n",
       "      <th>4</th>\n",
       "      <td>0</td>\n",
       "      <td>11-7007</td>\n",
       "      <td>B-7007-11</td>\n",
       "      <td>02.11.2011</td>\n",
       "      <td>17.05.1962</td>\n",
       "      <td>24.06.2011</td>\n",
       "      <td>1</td>\n",
       "      <td>18.07.2018</td>\n",
       "      <td>1.0</td>\n",
       "      <td>1.0</td>\n",
       "      <td>24.11.2011</td>\n",
       "      <td>49</td>\n",
       "      <td>18.07.2018</td>\n",
       "      <td>86.03</td>\n",
       "      <td>0.73</td>\n",
       "    </tr>\n",
       "    <tr>\n",
       "      <th>...</th>\n",
       "      <td>...</td>\n",
       "      <td>...</td>\n",
       "      <td>...</td>\n",
       "      <td>...</td>\n",
       "      <td>...</td>\n",
       "      <td>...</td>\n",
       "      <td>...</td>\n",
       "      <td>...</td>\n",
       "      <td>...</td>\n",
       "      <td>...</td>\n",
       "      <td>...</td>\n",
       "      <td>...</td>\n",
       "      <td>...</td>\n",
       "      <td>...</td>\n",
       "      <td>...</td>\n",
       "    </tr>\n",
       "    <tr>\n",
       "      <th>129</th>\n",
       "      <td>0</td>\n",
       "      <td>18-6609</td>\n",
       "      <td>B-6609-18</td>\n",
       "      <td>27.08.2018</td>\n",
       "      <td>05.04.1960</td>\n",
       "      <td>06.04.2018</td>\n",
       "      <td>1</td>\n",
       "      <td>06.09.2021</td>\n",
       "      <td>1.0</td>\n",
       "      <td>1.0</td>\n",
       "      <td>07.02.2020</td>\n",
       "      <td>58</td>\n",
       "      <td>06.09.2021</td>\n",
       "      <td>41.63</td>\n",
       "      <td>17.63</td>\n",
       "    </tr>\n",
       "    <tr>\n",
       "      <th>130</th>\n",
       "      <td>0</td>\n",
       "      <td>18-6152</td>\n",
       "      <td>B-6152-18</td>\n",
       "      <td>26.12.2019</td>\n",
       "      <td>28.11.1962</td>\n",
       "      <td>01.12.2017</td>\n",
       "      <td>1</td>\n",
       "      <td>15.05.2020</td>\n",
       "      <td>1.0</td>\n",
       "      <td>1.0</td>\n",
       "      <td>05.05.2020</td>\n",
       "      <td>55</td>\n",
       "      <td>15.05.2020</td>\n",
       "      <td>29.87</td>\n",
       "      <td>4.37</td>\n",
       "    </tr>\n",
       "    <tr>\n",
       "      <th>131</th>\n",
       "      <td>0</td>\n",
       "      <td>18-7055</td>\n",
       "      <td>B-7055-18</td>\n",
       "      <td>NaN</td>\n",
       "      <td>03.04.1966</td>\n",
       "      <td>09.04.2018</td>\n",
       "      <td>1</td>\n",
       "      <td>09.06.2018</td>\n",
       "      <td>0.0</td>\n",
       "      <td>0.0</td>\n",
       "      <td>NaN</td>\n",
       "      <td>52</td>\n",
       "      <td>09.06.2018</td>\n",
       "      <td>2.03</td>\n",
       "      <td>NaN</td>\n",
       "    </tr>\n",
       "    <tr>\n",
       "      <th>132</th>\n",
       "      <td>0</td>\n",
       "      <td>18-7241</td>\n",
       "      <td>B-7241-18</td>\n",
       "      <td>27.08.2018</td>\n",
       "      <td>24.03.1972</td>\n",
       "      <td>07.04.2018</td>\n",
       "      <td>0</td>\n",
       "      <td>02.08.2023</td>\n",
       "      <td>1.0</td>\n",
       "      <td>1.0</td>\n",
       "      <td>18.03.2020</td>\n",
       "      <td>46</td>\n",
       "      <td>02.08.2023</td>\n",
       "      <td>64.77</td>\n",
       "      <td>18.97</td>\n",
       "    </tr>\n",
       "    <tr>\n",
       "      <th>133</th>\n",
       "      <td>0</td>\n",
       "      <td>18-6616</td>\n",
       "      <td>B-6616-18</td>\n",
       "      <td>15.08.2018</td>\n",
       "      <td>04.02.1950</td>\n",
       "      <td>05.04.2018</td>\n",
       "      <td>0</td>\n",
       "      <td>06.05.2023</td>\n",
       "      <td>1.0</td>\n",
       "      <td>1.0</td>\n",
       "      <td>26.01.2021</td>\n",
       "      <td>68</td>\n",
       "      <td>02.08.2023</td>\n",
       "      <td>64.83</td>\n",
       "      <td>29.83</td>\n",
       "    </tr>\n",
       "  </tbody>\n",
       "</table>\n",
       "<p>134 rows × 15 columns</p>\n",
       "</div>"
      ],
      "text/plain": [
       "    subtype   case_id   case_id.1     tx_ends       birth tanı_tarihi  exitus  \\\n",
       "0         0   11-4785   B-4785-11  07.09.2011  01.09.1974  31.05.2011       0   \n",
       "1         0   11-7072   B-7072-11  11.07.2011  01.12.1942  28.06.2011       0   \n",
       "2         0  11-13471  B-13471-11         NaN  10.03.1948  29.11.2011       0   \n",
       "3         0   11-9522   B-9522-11  28.12.2011  10.01.1942  22.08.2011       1   \n",
       "4         0   11-7007   B-7007-11  02.11.2011  17.05.1962  24.06.2011       1   \n",
       "..      ...       ...         ...         ...         ...         ...     ...   \n",
       "129       0   18-6609   B-6609-18  27.08.2018  05.04.1960  06.04.2018       1   \n",
       "130       0   18-6152   B-6152-18  26.12.2019  28.11.1962  01.12.2017       1   \n",
       "131       0   18-7055   B-7055-18         NaN  03.04.1966  09.04.2018       1   \n",
       "132       0   18-7241   B-7241-18  27.08.2018  24.03.1972  07.04.2018       0   \n",
       "133       0   18-6616   B-6616-18  15.08.2018  04.02.1950  05.04.2018       0   \n",
       "\n",
       "    exorfu_date  remission  recurrence recorfu_date  age     os_date  \\\n",
       "0    11.05.2023        1.0         0.0   11.05.2023   36  02.08.2023   \n",
       "1    23.05.2023        1.0         0.0   23.05.2023   68  02.08.2023   \n",
       "2    29.11.2011        NaN         NaN   29.11.2011   63  02.08.2023   \n",
       "3    29.10.2016        1.0         1.0   18.10.2012   69  29.10.2016   \n",
       "4    18.07.2018        1.0         1.0   24.11.2011   49  18.07.2018   \n",
       "..          ...        ...         ...          ...  ...         ...   \n",
       "129  06.09.2021        1.0         1.0   07.02.2020   58  06.09.2021   \n",
       "130  15.05.2020        1.0         1.0   05.05.2020   55  15.05.2020   \n",
       "131  09.06.2018        0.0         0.0          NaN   52  09.06.2018   \n",
       "132  02.08.2023        1.0         1.0   18.03.2020   46  02.08.2023   \n",
       "133  06.05.2023        1.0         1.0   26.01.2021   68  02.08.2023   \n",
       "\n",
       "     os_months  dfs_months  \n",
       "0       148.20      142.13  \n",
       "1       147.27      144.47  \n",
       "2       142.13         NaN  \n",
       "3        63.17        9.83  \n",
       "4        86.03        0.73  \n",
       "..         ...         ...  \n",
       "129      41.63       17.63  \n",
       "130      29.87        4.37  \n",
       "131       2.03         NaN  \n",
       "132      64.77       18.97  \n",
       "133      64.83       29.83  \n",
       "\n",
       "[134 rows x 15 columns]"
      ]
     },
     "execution_count": 31,
     "metadata": {},
     "output_type": "execute_result"
    }
   ],
   "source": [
    "df"
   ]
  },
  {
   "cell_type": "code",
   "execution_count": 32,
   "metadata": {},
   "outputs": [
    {
     "data": {
      "text/plain": [
       "subtype          0\n",
       "case_id          0\n",
       "case_id.1        0\n",
       "tx_ends         47\n",
       "birth            0\n",
       "tanı_tarihi      0\n",
       "exitus           0\n",
       "exorfu_date      0\n",
       "remission       10\n",
       "recurrence      15\n",
       "recorfu_date    35\n",
       "age              0\n",
       "os_date          0\n",
       "os_months        0\n",
       "dfs_months      58\n",
       "dtype: int64"
      ]
     },
     "execution_count": 32,
     "metadata": {},
     "output_type": "execute_result"
    }
   ],
   "source": [
    "df.isna().sum()"
   ]
  },
  {
   "cell_type": "code",
   "execution_count": 33,
   "metadata": {},
   "outputs": [],
   "source": [
    "df.to_csv(\"./processed_data.csv\", index=False)"
   ]
  },
  {
   "cell_type": "code",
   "execution_count": 34,
   "metadata": {},
   "outputs": [
    {
     "data": {
      "text/plain": [
       "(1    87\n",
       " 0    47\n",
       " Name: exitus, dtype: int64,\n",
       " 1    0.649254\n",
       " 0    0.350746\n",
       " Name: exitus, dtype: float64)"
      ]
     },
     "execution_count": 34,
     "metadata": {},
     "output_type": "execute_result"
    }
   ],
   "source": [
    "df[\"exitus\"].value_counts(), df[\"exitus\"].value_counts() / len(df)"
   ]
  },
  {
   "cell_type": "code",
   "execution_count": 36,
   "metadata": {},
   "outputs": [
    {
     "data": {
      "text/plain": [
       "count    134.000000\n",
       "mean      62.658060\n",
       "std       36.143492\n",
       "min        1.670000\n",
       "25%       32.970000\n",
       "50%       57.500000\n",
       "75%       93.152500\n",
       "max      148.200000\n",
       "Name: os_months, dtype: float64"
      ]
     },
     "execution_count": 36,
     "metadata": {},
     "output_type": "execute_result"
    }
   ],
   "source": [
    "df[\"os_months\"].describe()"
   ]
  },
  {
   "cell_type": "code",
   "execution_count": 37,
   "metadata": {},
   "outputs": [
    {
     "data": {
      "text/plain": [
       "count    134.000000\n",
       "mean      57.723881\n",
       "std       11.630522\n",
       "min       34.000000\n",
       "25%       49.250000\n",
       "50%       57.000000\n",
       "75%       68.000000\n",
       "max       84.000000\n",
       "Name: age, dtype: float64"
      ]
     },
     "execution_count": 37,
     "metadata": {},
     "output_type": "execute_result"
    }
   ],
   "source": [
    "df[\"age\"].describe() "
   ]
  },
  {
   "cell_type": "code",
   "execution_count": 38,
   "metadata": {},
   "outputs": [
    {
     "data": {
      "text/plain": [
       "subtype         0\n",
       "case_id         0\n",
       "case_id.1       0\n",
       "tx_ends         0\n",
       "birth           0\n",
       "tanı_tarihi     0\n",
       "exitus          0\n",
       "exorfu_date     0\n",
       "remission       0\n",
       "recurrence      0\n",
       "recorfu_date    0\n",
       "age             0\n",
       "os_date         0\n",
       "os_months       0\n",
       "dfs_months      0\n",
       "dtype: int64"
      ]
     },
     "execution_count": 38,
     "metadata": {},
     "output_type": "execute_result"
    }
   ],
   "source": [
    "dfs_df = df[~df[\"dfs_months\"].isna()]\n",
    "dfs_df.isna().sum()"
   ]
  },
  {
   "cell_type": "code",
   "execution_count": 44,
   "metadata": {},
   "outputs": [
    {
     "data": {
      "text/plain": [
       "(1.0    62\n",
       " 0.0    14\n",
       " Name: recurrence, dtype: int64,\n",
       " 1.0    0.815789\n",
       " 0.0    0.184211\n",
       " Name: recurrence, dtype: float64)"
      ]
     },
     "execution_count": 44,
     "metadata": {},
     "output_type": "execute_result"
    }
   ],
   "source": [
    "dfs_df[\"recurrence\"].value_counts(), dfs_df[\"recurrence\"].value_counts()/len(dfs_df)"
   ]
  },
  {
   "cell_type": "code",
   "execution_count": 45,
   "metadata": {},
   "outputs": [
    {
     "data": {
      "text/plain": [
       "count     76.000000\n",
       "mean      25.640263\n",
       "std       29.213954\n",
       "min        0.400000\n",
       "25%        7.125000\n",
       "50%       17.250000\n",
       "75%       35.410000\n",
       "max      144.470000\n",
       "Name: dfs_months, dtype: float64"
      ]
     },
     "execution_count": 45,
     "metadata": {},
     "output_type": "execute_result"
    }
   ],
   "source": [
    "dfs_df[\"dfs_months\"].describe() "
   ]
  },
  {
   "cell_type": "markdown",
   "metadata": {},
   "source": [
    "# save dataset_csv"
   ]
  },
  {
   "cell_type": "code",
   "execution_count": 46,
   "metadata": {},
   "outputs": [
    {
     "name": "stdout",
     "output_type": "stream",
     "text": [
      "(929, 16) 134\n"
     ]
    },
    {
     "data": {
      "text/html": [
       "<div>\n",
       "<style scoped>\n",
       "    .dataframe tbody tr th:only-of-type {\n",
       "        vertical-align: middle;\n",
       "    }\n",
       "\n",
       "    .dataframe tbody tr th {\n",
       "        vertical-align: top;\n",
       "    }\n",
       "\n",
       "    .dataframe thead th {\n",
       "        text-align: right;\n",
       "    }\n",
       "</style>\n",
       "<table border=\"1\" class=\"dataframe\">\n",
       "  <thead>\n",
       "    <tr style=\"text-align: right;\">\n",
       "      <th></th>\n",
       "      <th>subtype</th>\n",
       "      <th>case_id</th>\n",
       "      <th>case_id.1</th>\n",
       "      <th>tx_ends</th>\n",
       "      <th>birth</th>\n",
       "      <th>tanı_tarihi</th>\n",
       "      <th>exitus</th>\n",
       "      <th>exorfu_date</th>\n",
       "      <th>remission</th>\n",
       "      <th>recurrence</th>\n",
       "      <th>recorfu_date</th>\n",
       "      <th>age</th>\n",
       "      <th>os_date</th>\n",
       "      <th>os_months</th>\n",
       "      <th>dfs_months</th>\n",
       "      <th>slide_id</th>\n",
       "    </tr>\n",
       "  </thead>\n",
       "  <tbody>\n",
       "    <tr>\n",
       "      <th>0</th>\n",
       "      <td>0</td>\n",
       "      <td>11-4785</td>\n",
       "      <td>B-4785-11</td>\n",
       "      <td>07.09.2011</td>\n",
       "      <td>01.09.1974</td>\n",
       "      <td>31.05.2011</td>\n",
       "      <td>0</td>\n",
       "      <td>11.05.2023</td>\n",
       "      <td>1.0</td>\n",
       "      <td>0.0</td>\n",
       "      <td>11.05.2023</td>\n",
       "      <td>36</td>\n",
       "      <td>02.08.2023</td>\n",
       "      <td>148.20</td>\n",
       "      <td>142.13</td>\n",
       "      <td>11-4785-R02</td>\n",
       "    </tr>\n",
       "    <tr>\n",
       "      <th>1</th>\n",
       "      <td>0</td>\n",
       "      <td>11-7072</td>\n",
       "      <td>B-7072-11</td>\n",
       "      <td>11.07.2011</td>\n",
       "      <td>01.12.1942</td>\n",
       "      <td>28.06.2011</td>\n",
       "      <td>0</td>\n",
       "      <td>23.05.2023</td>\n",
       "      <td>1.0</td>\n",
       "      <td>0.0</td>\n",
       "      <td>23.05.2023</td>\n",
       "      <td>68</td>\n",
       "      <td>02.08.2023</td>\n",
       "      <td>147.27</td>\n",
       "      <td>144.47</td>\n",
       "      <td>11-7072-R01</td>\n",
       "    </tr>\n",
       "    <tr>\n",
       "      <th>2</th>\n",
       "      <td>0</td>\n",
       "      <td>11-7072</td>\n",
       "      <td>B-7072-11</td>\n",
       "      <td>11.07.2011</td>\n",
       "      <td>01.12.1942</td>\n",
       "      <td>28.06.2011</td>\n",
       "      <td>0</td>\n",
       "      <td>23.05.2023</td>\n",
       "      <td>1.0</td>\n",
       "      <td>0.0</td>\n",
       "      <td>23.05.2023</td>\n",
       "      <td>68</td>\n",
       "      <td>02.08.2023</td>\n",
       "      <td>147.27</td>\n",
       "      <td>144.47</td>\n",
       "      <td>11-7072-R02</td>\n",
       "    </tr>\n",
       "    <tr>\n",
       "      <th>3</th>\n",
       "      <td>0</td>\n",
       "      <td>11-7072</td>\n",
       "      <td>B-7072-11</td>\n",
       "      <td>11.07.2011</td>\n",
       "      <td>01.12.1942</td>\n",
       "      <td>28.06.2011</td>\n",
       "      <td>0</td>\n",
       "      <td>23.05.2023</td>\n",
       "      <td>1.0</td>\n",
       "      <td>0.0</td>\n",
       "      <td>23.05.2023</td>\n",
       "      <td>68</td>\n",
       "      <td>02.08.2023</td>\n",
       "      <td>147.27</td>\n",
       "      <td>144.47</td>\n",
       "      <td>11-7072-R03</td>\n",
       "    </tr>\n",
       "    <tr>\n",
       "      <th>4</th>\n",
       "      <td>0</td>\n",
       "      <td>11-13471</td>\n",
       "      <td>B-13471-11</td>\n",
       "      <td>NaN</td>\n",
       "      <td>10.03.1948</td>\n",
       "      <td>29.11.2011</td>\n",
       "      <td>0</td>\n",
       "      <td>29.11.2011</td>\n",
       "      <td>NaN</td>\n",
       "      <td>NaN</td>\n",
       "      <td>29.11.2011</td>\n",
       "      <td>63</td>\n",
       "      <td>02.08.2023</td>\n",
       "      <td>142.13</td>\n",
       "      <td>NaN</td>\n",
       "      <td>11-13471-L03</td>\n",
       "    </tr>\n",
       "    <tr>\n",
       "      <th>...</th>\n",
       "      <td>...</td>\n",
       "      <td>...</td>\n",
       "      <td>...</td>\n",
       "      <td>...</td>\n",
       "      <td>...</td>\n",
       "      <td>...</td>\n",
       "      <td>...</td>\n",
       "      <td>...</td>\n",
       "      <td>...</td>\n",
       "      <td>...</td>\n",
       "      <td>...</td>\n",
       "      <td>...</td>\n",
       "      <td>...</td>\n",
       "      <td>...</td>\n",
       "      <td>...</td>\n",
       "      <td>...</td>\n",
       "    </tr>\n",
       "    <tr>\n",
       "      <th>924</th>\n",
       "      <td>0</td>\n",
       "      <td>18-6616</td>\n",
       "      <td>B-6616-18</td>\n",
       "      <td>15.08.2018</td>\n",
       "      <td>04.02.1950</td>\n",
       "      <td>05.04.2018</td>\n",
       "      <td>0</td>\n",
       "      <td>06.05.2023</td>\n",
       "      <td>1.0</td>\n",
       "      <td>1.0</td>\n",
       "      <td>26.01.2021</td>\n",
       "      <td>68</td>\n",
       "      <td>02.08.2023</td>\n",
       "      <td>64.83</td>\n",
       "      <td>29.83</td>\n",
       "      <td>18-6616-LO2</td>\n",
       "    </tr>\n",
       "    <tr>\n",
       "      <th>925</th>\n",
       "      <td>0</td>\n",
       "      <td>18-6616</td>\n",
       "      <td>B-6616-18</td>\n",
       "      <td>15.08.2018</td>\n",
       "      <td>04.02.1950</td>\n",
       "      <td>05.04.2018</td>\n",
       "      <td>0</td>\n",
       "      <td>06.05.2023</td>\n",
       "      <td>1.0</td>\n",
       "      <td>1.0</td>\n",
       "      <td>26.01.2021</td>\n",
       "      <td>68</td>\n",
       "      <td>02.08.2023</td>\n",
       "      <td>64.83</td>\n",
       "      <td>29.83</td>\n",
       "      <td>18-6616-LO1</td>\n",
       "    </tr>\n",
       "    <tr>\n",
       "      <th>926</th>\n",
       "      <td>0</td>\n",
       "      <td>18-6616</td>\n",
       "      <td>B-6616-18</td>\n",
       "      <td>15.08.2018</td>\n",
       "      <td>04.02.1950</td>\n",
       "      <td>05.04.2018</td>\n",
       "      <td>0</td>\n",
       "      <td>06.05.2023</td>\n",
       "      <td>1.0</td>\n",
       "      <td>1.0</td>\n",
       "      <td>26.01.2021</td>\n",
       "      <td>68</td>\n",
       "      <td>02.08.2023</td>\n",
       "      <td>64.83</td>\n",
       "      <td>29.83</td>\n",
       "      <td>18-6616-RO4</td>\n",
       "    </tr>\n",
       "    <tr>\n",
       "      <th>927</th>\n",
       "      <td>0</td>\n",
       "      <td>18-6616</td>\n",
       "      <td>B-6616-18</td>\n",
       "      <td>15.08.2018</td>\n",
       "      <td>04.02.1950</td>\n",
       "      <td>05.04.2018</td>\n",
       "      <td>0</td>\n",
       "      <td>06.05.2023</td>\n",
       "      <td>1.0</td>\n",
       "      <td>1.0</td>\n",
       "      <td>26.01.2021</td>\n",
       "      <td>68</td>\n",
       "      <td>02.08.2023</td>\n",
       "      <td>64.83</td>\n",
       "      <td>29.83</td>\n",
       "      <td>18-6616-RO5</td>\n",
       "    </tr>\n",
       "    <tr>\n",
       "      <th>928</th>\n",
       "      <td>0</td>\n",
       "      <td>18-6616</td>\n",
       "      <td>B-6616-18</td>\n",
       "      <td>15.08.2018</td>\n",
       "      <td>04.02.1950</td>\n",
       "      <td>05.04.2018</td>\n",
       "      <td>0</td>\n",
       "      <td>06.05.2023</td>\n",
       "      <td>1.0</td>\n",
       "      <td>1.0</td>\n",
       "      <td>26.01.2021</td>\n",
       "      <td>68</td>\n",
       "      <td>02.08.2023</td>\n",
       "      <td>64.83</td>\n",
       "      <td>29.83</td>\n",
       "      <td>18-6616-RO1</td>\n",
       "    </tr>\n",
       "  </tbody>\n",
       "</table>\n",
       "<p>929 rows × 16 columns</p>\n",
       "</div>"
      ],
      "text/plain": [
       "     subtype   case_id   case_id.1     tx_ends       birth tanı_tarihi  \\\n",
       "0          0   11-4785   B-4785-11  07.09.2011  01.09.1974  31.05.2011   \n",
       "1          0   11-7072   B-7072-11  11.07.2011  01.12.1942  28.06.2011   \n",
       "2          0   11-7072   B-7072-11  11.07.2011  01.12.1942  28.06.2011   \n",
       "3          0   11-7072   B-7072-11  11.07.2011  01.12.1942  28.06.2011   \n",
       "4          0  11-13471  B-13471-11         NaN  10.03.1948  29.11.2011   \n",
       "..       ...       ...         ...         ...         ...         ...   \n",
       "924        0   18-6616   B-6616-18  15.08.2018  04.02.1950  05.04.2018   \n",
       "925        0   18-6616   B-6616-18  15.08.2018  04.02.1950  05.04.2018   \n",
       "926        0   18-6616   B-6616-18  15.08.2018  04.02.1950  05.04.2018   \n",
       "927        0   18-6616   B-6616-18  15.08.2018  04.02.1950  05.04.2018   \n",
       "928        0   18-6616   B-6616-18  15.08.2018  04.02.1950  05.04.2018   \n",
       "\n",
       "     exitus exorfu_date  remission  recurrence recorfu_date  age     os_date  \\\n",
       "0         0  11.05.2023        1.0         0.0   11.05.2023   36  02.08.2023   \n",
       "1         0  23.05.2023        1.0         0.0   23.05.2023   68  02.08.2023   \n",
       "2         0  23.05.2023        1.0         0.0   23.05.2023   68  02.08.2023   \n",
       "3         0  23.05.2023        1.0         0.0   23.05.2023   68  02.08.2023   \n",
       "4         0  29.11.2011        NaN         NaN   29.11.2011   63  02.08.2023   \n",
       "..      ...         ...        ...         ...          ...  ...         ...   \n",
       "924       0  06.05.2023        1.0         1.0   26.01.2021   68  02.08.2023   \n",
       "925       0  06.05.2023        1.0         1.0   26.01.2021   68  02.08.2023   \n",
       "926       0  06.05.2023        1.0         1.0   26.01.2021   68  02.08.2023   \n",
       "927       0  06.05.2023        1.0         1.0   26.01.2021   68  02.08.2023   \n",
       "928       0  06.05.2023        1.0         1.0   26.01.2021   68  02.08.2023   \n",
       "\n",
       "     os_months  dfs_months      slide_id  \n",
       "0       148.20      142.13   11-4785-R02  \n",
       "1       147.27      144.47   11-7072-R01  \n",
       "2       147.27      144.47   11-7072-R02  \n",
       "3       147.27      144.47   11-7072-R03  \n",
       "4       142.13         NaN  11-13471-L03  \n",
       "..         ...         ...           ...  \n",
       "924      64.83       29.83   18-6616-LO2  \n",
       "925      64.83       29.83   18-6616-LO1  \n",
       "926      64.83       29.83   18-6616-RO4  \n",
       "927      64.83       29.83   18-6616-RO5  \n",
       "928      64.83       29.83   18-6616-RO1  \n",
       "\n",
       "[929 rows x 16 columns]"
      ]
     },
     "execution_count": 46,
     "metadata": {},
     "output_type": "execute_result"
    }
   ],
   "source": [
    "import os\n",
    "import numpy as np\n",
    "import pandas as pd\n",
    "df = pd.read_csv(\"./processed_data.csv\")\n",
    "slide_dir = \"/media/nfs/SURV/BasOVER/Slides/\"\n",
    "slide_df = pd.DataFrame({\n",
    "    'slide_id': [i.rsplit(\".\", 1)[0] for i in os.listdir(slide_dir)],\n",
    "    \"case_id\": [i.rsplit(\"-\", 1)[0] for i in os.listdir(slide_dir)]\n",
    "})\n",
    "df = pd.merge(df, slide_df, on=\"case_id\")\n",
    "print(df.shape, len(df[\"case_id\"].unique()))\n",
    "\n",
    "os_df = df[[\"case_id\", \"slide_id\", \"age\", \"exitus\", \"os_months\"]]\n",
    "dfs_df = df[[\"case_id\", \"slide_id\", \"age\", \"recurrence\", \"dfs_months\"]]\n",
    "df"
   ]
  },
  {
   "cell_type": "code",
   "execution_count": 47,
   "metadata": {},
   "outputs": [
    {
     "data": {
      "text/plain": [
       "((513, 5),\n",
       " case_id       0\n",
       " slide_id      0\n",
       " age           0\n",
       " recurrence    0\n",
       " dfs_months    0\n",
       " dtype: int64)"
      ]
     },
     "execution_count": 47,
     "metadata": {},
     "output_type": "execute_result"
    }
   ],
   "source": [
    "dfs_df = dfs_df[~dfs_df[\"dfs_months\"].isna()]\n",
    "dfs_df.shape, dfs_df.isna().sum()"
   ]
  },
  {
   "cell_type": "code",
   "execution_count": 48,
   "metadata": {},
   "outputs": [
    {
     "data": {
      "text/plain": [
       "((929, 5),\n",
       " case_id      0\n",
       " slide_id     0\n",
       " age          0\n",
       " exitus       0\n",
       " os_months    0\n",
       " dtype: int64)"
      ]
     },
     "execution_count": 48,
     "metadata": {},
     "output_type": "execute_result"
    }
   ],
   "source": [
    "os_df.shape, os_df.isna().sum()"
   ]
  },
  {
   "cell_type": "code",
   "execution_count": 49,
   "metadata": {},
   "outputs": [
    {
     "name": "stderr",
     "output_type": "stream",
     "text": [
      "/tmp/ipykernel_5849/2135862653.py:1: SettingWithCopyWarning: \n",
      "A value is trying to be set on a copy of a slice from a DataFrame.\n",
      "Try using .loc[row_indexer,col_indexer] = value instead\n",
      "\n",
      "See the caveats in the documentation: https://pandas.pydata.org/pandas-docs/stable/user_guide/indexing.html#returning-a-view-versus-a-copy\n",
      "  os_df[\"group\"] = np.zeros(len(os_df))\n"
     ]
    }
   ],
   "source": [
    "os_df[\"group\"] = np.zeros(len(os_df))\n",
    "dfs_df[\"group\"] = np.zeros(len(dfs_df))"
   ]
  },
  {
   "cell_type": "code",
   "execution_count": 50,
   "metadata": {},
   "outputs": [],
   "source": [
    "os_df.rename(columns={\n",
    "    'os_months':'survival_months',\n",
    "    \"exitus\": \"event\"\n",
    "}).to_csv(\"../../datasets_csv/baskent.csv\", index=False)\n",
    "\n",
    "dfs_df.rename(columns={\n",
    "    'dfs_months':'survival_months',\n",
    "    \"recurrence\": \"event\"\n",
    "}).to_csv(\"../../datasets_csv/baskent_dfs.csv\", index=False)"
   ]
  },
  {
   "cell_type": "code",
   "execution_count": 51,
   "metadata": {},
   "outputs": [
    {
     "name": "stderr",
     "output_type": "stream",
     "text": [
      "/tmp/ipykernel_5849/4030651114.py:1: SettingWithCopyWarning: \n",
      "A value is trying to be set on a copy of a slice from a DataFrame.\n",
      "Try using .loc[row_indexer,col_indexer] = value instead\n",
      "\n",
      "See the caveats in the documentation: https://pandas.pydata.org/pandas-docs/stable/user_guide/indexing.html#returning-a-view-versus-a-copy\n",
      "  os_df[\"censorship\"] = 1 - os_df[\"exitus\"]\n"
     ]
    },
    {
     "data": {
      "text/plain": [
       "(0    545\n",
       " 1    384\n",
       " Name: censorship, dtype: int64,\n",
       " 0.0    411\n",
       " 1.0    102\n",
       " Name: censorship, dtype: int64)"
      ]
     },
     "execution_count": 51,
     "metadata": {},
     "output_type": "execute_result"
    }
   ],
   "source": [
    "os_df[\"censorship\"] = 1 - os_df[\"exitus\"]\n",
    "dfs_df[\"censorship\"] = 1 - dfs_df[\"recurrence\"]\n",
    "os_df[\"censorship\"].value_counts(), dfs_df[\"censorship\"].value_counts()"
   ]
  },
  {
   "cell_type": "code",
   "execution_count": 52,
   "metadata": {},
   "outputs": [],
   "source": [
    "os_df.drop(columns=[\"group\", 'exitus']).rename(columns={\n",
    "    'os_months':'survival_months'\n",
    "}).to_csv(\"../../../PORPOISE-master/datasets_csv/baskent.csv\", index=False)\n",
    "\n",
    "dfs_df.drop(columns=[\"group\", 'recurrence']).rename(columns={\n",
    "    'dfs_months':'survival_months'\n",
    "}).to_csv(\"../../../PORPOISE-master/datasets_csv/baskent_dfs.csv\", index=False)"
   ]
  },
  {
   "cell_type": "code",
   "execution_count": 9,
   "metadata": {},
   "outputs": [
    {
     "data": {
      "text/plain": [
       "count    641.000000\n",
       "mean      31.567566\n",
       "std       25.976836\n",
       "min        0.470000\n",
       "25%       13.700000\n",
       "50%       25.530000\n",
       "75%       40.130000\n",
       "max      145.430000\n",
       "Name: survival_months, dtype: float64"
      ]
     },
     "execution_count": 9,
     "metadata": {},
     "output_type": "execute_result"
    }
   ],
   "source": [
    "import pandas as pd\n",
    "os_df = pd.read_csv(\"../../datasets_csv/baskent_dfs.csv\")\n",
    "os_df[\"survival_months\"].describe()"
   ]
  },
  {
   "cell_type": "code",
   "execution_count": 10,
   "metadata": {},
   "outputs": [
    {
     "data": {
      "text/plain": [
       "count     98.000000\n",
       "mean      30.373163\n",
       "std       27.719446\n",
       "min        0.470000\n",
       "25%       12.417500\n",
       "50%       22.500000\n",
       "75%       34.860000\n",
       "max      145.430000\n",
       "Name: survival_months, dtype: float64"
      ]
     },
     "execution_count": 10,
     "metadata": {},
     "output_type": "execute_result"
    }
   ],
   "source": [
    "os_df.drop_duplicates(\"case_id\")[\"survival_months\"].describe()"
   ]
  },
  {
   "cell_type": "code",
   "execution_count": null,
   "metadata": {},
   "outputs": [],
   "source": []
  }
 ],
 "metadata": {
  "kernelspec": {
   "display_name": "torch",
   "language": "python",
   "name": "python3"
  },
  "language_info": {
   "codemirror_mode": {
    "name": "ipython",
    "version": 3
   },
   "file_extension": ".py",
   "mimetype": "text/x-python",
   "name": "python",
   "nbconvert_exporter": "python",
   "pygments_lexer": "ipython3",
   "version": "3.9.15"
  }
 },
 "nbformat": 4,
 "nbformat_minor": 2
}
